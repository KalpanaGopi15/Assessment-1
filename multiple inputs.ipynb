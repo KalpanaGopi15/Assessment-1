{
 "cells": [
  {
   "cell_type": "code",
   "execution_count": 5,
   "id": "4d123a32-2f39-41d3-8e1e-c1010f8f3001",
   "metadata": {},
   "outputs": [
    {
     "name": "stdin",
     "output_type": "stream",
     "text": [
      "enter the no of times 2\n",
      "Enter inputs: 32\n"
     ]
    },
    {
     "name": "stdout",
     "output_type": "stream",
     "text": [
      "User inputs are 32\n"
     ]
    },
    {
     "ename": "AttributeError",
     "evalue": "'str' object has no attribute 'append'",
     "output_type": "error",
     "traceback": [
      "\u001b[1;31m---------------------------------------------------------------------------\u001b[0m",
      "\u001b[1;31mAttributeError\u001b[0m                            Traceback (most recent call last)",
      "Cell \u001b[1;32mIn[5], line 7\u001b[0m\n\u001b[0;32m      5\u001b[0m     userinput\u001b[38;5;241m=\u001b[39m(\u001b[38;5;28minput\u001b[39m(\u001b[38;5;124m\"\u001b[39m\u001b[38;5;124mEnter inputs:\u001b[39m\u001b[38;5;124m\"\u001b[39m))\n\u001b[0;32m      6\u001b[0m     \u001b[38;5;28mprint\u001b[39m(\u001b[38;5;124m\"\u001b[39m\u001b[38;5;124mUser inputs are\u001b[39m\u001b[38;5;124m\"\u001b[39m,userinput)\n\u001b[1;32m----> 7\u001b[0m     userinput\u001b[38;5;241m.\u001b[39mappend(userinput)\n\u001b[0;32m      9\u001b[0m \u001b[38;5;28mprint\u001b[39m(\u001b[38;5;124m\"\u001b[39m\u001b[38;5;124mUser inputs are\u001b[39m\u001b[38;5;124m\"\u001b[39m,userinput)\n",
      "\u001b[1;31mAttributeError\u001b[0m: 'str' object has no attribute 'append'"
     ]
    }
   ],
   "source": [
    "n=int(input(\"enter the no of times\"))\n",
    "userinput=[]\n",
    "\n",
    "for i in range(n):\n",
    "    userinput=(input(\"Enter inputs:\"))\n",
    "    print(\"User inputs are\",userinput)\n",
    "    userinput.append(userinput)\n",
    "\n",
    "print(\"User inputs are\",userinput)\n",
    "    "
   ]
  },
  {
   "cell_type": "code",
   "execution_count": null,
   "id": "1d0026b0-2bff-4df9-9f3e-2091cac6f625",
   "metadata": {},
   "outputs": [],
   "source": []
  }
 ],
 "metadata": {
  "kernelspec": {
   "display_name": "Python [conda env:base] *",
   "language": "python",
   "name": "conda-base-py"
  },
  "language_info": {
   "codemirror_mode": {
    "name": "ipython",
    "version": 3
   },
   "file_extension": ".py",
   "mimetype": "text/x-python",
   "name": "python",
   "nbconvert_exporter": "python",
   "pygments_lexer": "ipython3",
   "version": "3.12.7"
  }
 },
 "nbformat": 4,
 "nbformat_minor": 5
}
