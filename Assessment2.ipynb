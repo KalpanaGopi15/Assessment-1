{
 "cells": [
  {
   "cell_type": "code",
   "execution_count": 5,
   "id": "269f4930-8c4d-4f64-8e26-86583306a5d2",
   "metadata": {},
   "outputs": [
    {
     "name": "stdout",
     "output_type": "stream",
     "text": [
      "Range is: 0\n",
      "Range is: 1\n",
      "Range is: 2\n",
      "Range is: 3\n",
      "Range is: 4\n",
      "Range is: 5\n",
      "Range is: 6\n",
      "Range is: 7\n",
      "Range is: 8\n",
      "Range is: 9\n",
      "Range is: 10\n",
      "Range is: 11\n",
      "Range is: 12\n",
      "Range is: 13\n",
      "Range is: 14\n",
      "Range is: 15\n",
      "Range is: 16\n",
      "Range is: 17\n",
      "Range is: 18\n",
      "Range is: 19\n"
     ]
    }
   ],
   "source": [
    "for num in range(0,20):\n",
    "    print(\"Range is:\",num)\n"
   ]
  },
  {
   "cell_type": "raw",
   "id": "c3c7425d-9bda-4e98-9ca1-8f1516be22d3",
   "metadata": {},
   "source": [
    "\n"
   ]
  },
  {
   "cell_type": "code",
   "execution_count": 13,
   "id": "b243df67-d5d6-45d2-a1a5-cafe7b327bba",
   "metadata": {},
   "outputs": [
    {
     "name": "stdout",
     "output_type": "stream",
     "text": [
      "10  11  12  13  14  15  16  17  18  19  "
     ]
    }
   ],
   "source": [
    "for num in range(10,20):\n",
    "    print(num, end=\"  \")"
   ]
  },
  {
   "cell_type": "code",
   "execution_count": 21,
   "id": "89316d91-3afa-4078-85ff-7ad20c5c9cb1",
   "metadata": {},
   "outputs": [
    {
     "name": "stdout",
     "output_type": "stream",
     "text": [
      "8\n"
     ]
    }
   ],
   "source": [
    "lists=[10,20,14,55,43,87,76,'kalpana']\n",
    "print(len(lists))\n"
   ]
  },
  {
   "cell_type": "code",
   "execution_count": 29,
   "id": "6c579ee5-28f4-4883-96df-d50d9dcf20c5",
   "metadata": {},
   "outputs": [
    {
     "name": "stdout",
     "output_type": "stream",
     "text": [
      "A\n",
      "R\n",
      "T\n",
      "I\n",
      "F\n",
      "I\n",
      "C\n",
      "I\n",
      "A\n",
      "L\n",
      "I\n",
      "N\n",
      "T\n",
      "E\n",
      "L\n",
      "L\n",
      "I\n",
      "G\n",
      "E\n",
      "N\n",
      "C\n",
      "C\n",
      "E\n",
      "\n"
     ]
    }
   ],
   "source": [
    "print(\"A\\nR\\nT\\nI\\nF\\nI\\nC\\nI\\nA\\nL\\nI\\nN\\nT\\nE\\nL\\nL\\nI\\nG\\nE\\nN\\nC\\nC\\nE\\n\")"
   ]
  },
  {
   "cell_type": "code",
   "execution_count": 39,
   "id": "441dc75f-99d1-4d1d-af92-d953713fa913",
   "metadata": {},
   "outputs": [
    {
     "name": "stdout",
     "output_type": "stream",
     "text": [
      "A\n",
      "R\n",
      "I\n",
      "T\n",
      "I\n",
      "F\n",
      "I\n",
      "C\n",
      "A\n",
      "L\n",
      " \n",
      "I\n",
      "N\n",
      "T\n",
      "E\n",
      "L\n",
      "L\n",
      "I\n",
      "G\n",
      "E\n",
      "N\n",
      "C\n",
      "E\n"
     ]
    }
   ],
   "source": [
    "for x in 'ARITIFICAL INTELLIGENCE':\n",
    "    print(x)\n",
    "    \n",
    "       "
   ]
  },
  {
   "cell_type": "code",
   "execution_count": 43,
   "id": "bbde2b87-ab40-4851-81ba-1bc23b52a420",
   "metadata": {},
   "outputs": [
    {
     "name": "stdin",
     "output_type": "stream",
     "text": [
      "Enter your name Kalpana\n",
      "enter ur age 27\n",
      "Enter ur profession IT -infra & cloud\n"
     ]
    },
    {
     "name": "stdout",
     "output_type": "stream",
     "text": [
      "Your name is: Kalpana \n",
      " Your age is: 27 \n",
      " Your profession is: IT -infra & cloud\n"
     ]
    }
   ],
   "source": [
    "#Personal Details\n",
    "\n",
    "name=input(\"Enter your name\")\n",
    "age=int(input(\"enter ur age\"))\n",
    "profession=input(\"Enter ur profession\")\n",
    "print(\"Your name is:\",name,\"\\n\",\"Your age is:\",age,\"\\n\",\"Your profession is:\",profession)\n"
   ]
  },
  {
   "cell_type": "code",
   "execution_count": 49,
   "id": "6a2da0d8-a47a-48c9-be64-bc799ad3fe50",
   "metadata": {},
   "outputs": [
    {
     "name": "stdout",
     "output_type": "stream",
     "text": [
      "(1, 'welcome', 2, 'Hope')\n"
     ]
    }
   ],
   "source": [
    "#Mixed datatypes\n",
    "\n",
    "tup=(1,'welcome',2,'Hope')\n",
    "print(tup)\n"
   ]
  },
  {
   "cell_type": "code",
   "execution_count": 57,
   "id": "5d7926f4-4850-40ce-8def-054b512f961c",
   "metadata": {},
   "outputs": [
    {
     "name": "stdout",
     "output_type": "stream",
     "text": [
      "((0, 1, 2, 3), ('python', 'hope'))\n"
     ]
    }
   ],
   "source": [
    "x=(0,1,2,3)\n",
    "y=('python','hope')\n",
    "tup=(x,y)\n",
    "print(tup)\n",
    "      "
   ]
  },
  {
   "cell_type": "code",
   "execution_count": 65,
   "id": "0321bb6f-3fd1-486e-8fb4-6eab35eee5f1",
   "metadata": {},
   "outputs": [
    {
     "name": "stdout",
     "output_type": "stream",
     "text": [
      "10 is the even number\n",
      "20 is the even number\n",
      "16 is the even number\n",
      "19 : is the odd number\n",
      "25 : is the odd number\n",
      "1 : is the odd number\n",
      "276 is the even number\n",
      "188 is the even number\n"
     ]
    }
   ],
   "source": [
    "x=[10,20,16,19,25,1,276,188]\n",
    "for y in x:\n",
    "    if(y%2!=0):\n",
    "        print(y,\": is the odd number\")\n",
    "    else:\n",
    "        print(y,\"is the even number\")\n",
    "        \n",
    "    "
   ]
  },
  {
   "cell_type": "code",
   "execution_count": null,
   "id": "38655910-b27c-4aab-9e3e-4c03c537f139",
   "metadata": {},
   "outputs": [],
   "source": []
  },
  {
   "cell_type": "code",
   "execution_count": null,
   "id": "041dd143-05d4-4419-86cd-782908355377",
   "metadata": {},
   "outputs": [],
   "source": []
  }
 ],
 "metadata": {
  "kernelspec": {
   "display_name": "Python [conda env:base] *",
   "language": "python",
   "name": "conda-base-py"
  },
  "language_info": {
   "codemirror_mode": {
    "name": "ipython",
    "version": 3
   },
   "file_extension": ".py",
   "mimetype": "text/x-python",
   "name": "python",
   "nbconvert_exporter": "python",
   "pygments_lexer": "ipython3",
   "version": "3.12.7"
  }
 },
 "nbformat": 4,
 "nbformat_minor": 5
}
