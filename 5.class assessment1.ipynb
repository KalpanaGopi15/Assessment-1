{
 "cells": [
  {
   "cell_type": "code",
   "execution_count": 14,
   "id": "e16ba376-67c9-4aeb-b2ed-d041e95d9381",
   "metadata": {},
   "outputs": [],
   "source": [
    "class SubfieldsInAI():\n",
    "    def subfields():\n",
    "        print(\"Sub-fields in AI are:\")\n",
    "        lists=[\"Machine Learning\",\n",
    "           \"Neural Networks\",\n",
    "           \"vision\",\n",
    "           \"Robotics\",\n",
    "           \"Speech Processing\",\n",
    "           \"Natural Language Processing\"]\n",
    "        for i in lists:\n",
    "            print(i)"
   ]
  },
  {
   "cell_type": "code",
   "execution_count": 16,
   "id": "8536f6cc-0188-4ff9-a47e-401faf6fa85a",
   "metadata": {},
   "outputs": [
    {
     "name": "stdout",
     "output_type": "stream",
     "text": [
      "Sub-fields in AI are:\n",
      "Machine Learning\n",
      "Neural Networks\n",
      "vision\n",
      "Robotics\n",
      "Speech Processing\n",
      "Natural Language Processing\n"
     ]
    }
   ],
   "source": [
    "SubfieldsInAI.subfields()\n"
   ]
  },
  {
   "cell_type": "code",
   "execution_count": 18,
   "id": "ceba82a8-bf3e-41bf-9ce5-1b0c5e004567",
   "metadata": {},
   "outputs": [],
   "source": [
    "class OddEven():\n",
    "    def oddeven():\n",
    "        num=int(input(\"enter the number:\"))\n",
    "        if(num%2==0):\n",
    "            print(\"The given number\",num, \"is even\")\n",
    "            revar=\"the no is even\"\n",
    "        else:\n",
    "            print(\"The given number\",num,\"is odd\")\n",
    "            revar=\"the no is odd\"\n",
    "        return revar"
   ]
  },
  {
   "cell_type": "code",
   "execution_count": 32,
   "id": "61d33f76-b69b-4140-846e-5ce173adab97",
   "metadata": {},
   "outputs": [
    {
     "name": "stdin",
     "output_type": "stream",
     "text": [
      "enter the number: 52452\n"
     ]
    },
    {
     "name": "stdout",
     "output_type": "stream",
     "text": [
      "The given number 52452 is even\n"
     ]
    }
   ],
   "source": [
    "x=OddEven.oddeven()"
   ]
  },
  {
   "cell_type": "code",
   "execution_count": 24,
   "id": "d5ac5a80-48ac-488a-a80e-9b09d7ba5605",
   "metadata": {},
   "outputs": [],
   "source": [
    "class  ElegiblityForMarriage():\n",
    "    def eligibility():\n",
    "        gender=input(\"Ener the gender\")\n",
    "        age=int(input(\"Enter the age:\"))\n",
    "        if((gender=='Male')&(age>=21)):\n",
    "            print(\"you r eligible\")\n",
    "            msg=\"Eligible for adult\",age\n",
    "        elif((gender=='Female')&(age>=18)):\n",
    "            print(\"you r eligible\")\n",
    "            msg=\"ELIGIBLE\",age\n",
    "        else:\n",
    "            print(\"u r not eligible\")\n",
    "            msg=\"not eligible\",age\n",
    "        return msg"
   ]
  },
  {
   "cell_type": "code",
   "execution_count": 30,
   "id": "874b11e9-c2de-4975-a5ef-47079b32d109",
   "metadata": {},
   "outputs": [
    {
     "name": "stdin",
     "output_type": "stream",
     "text": [
      "Ener the gender Male\n",
      "Enter the age: 20\n"
     ]
    },
    {
     "name": "stdout",
     "output_type": "stream",
     "text": [
      "u r not eligible\n"
     ]
    }
   ],
   "source": [
    "c=ElegiblityForMarriage.eligibility()"
   ]
  },
  {
   "cell_type": "code",
   "execution_count": 58,
   "id": "d837b8e9-bb57-4263-9147-e184cdc1fae5",
   "metadata": {},
   "outputs": [],
   "source": [
    "class FindPercent():\n",
    "    def percentage():\n",
    "        sub1=int(input(\"Enter the mark of subject1:\"))\n",
    "        sub2=int(input(\"Enter the mark of subject2:\"))\n",
    "        sub3=int(input(\"Enter the mark of subject3:\"))\n",
    "        sub4=int(input(\"Enter the mark of subject4:\"))\n",
    "        sub5=int(input(\"Enter the mark of subject5:\"))\n",
    "        tot=(sub1+sub2+sub3+sub4+sub5)\n",
    "        per=tot/5\n",
    "        print(\"total:\",tot,\"\\n\",\"Percentage:\",per)\n",
    "        temp='Total',tot, 'percentage',per\n",
    "        return temp"
   ]
  },
  {
   "cell_type": "code",
   "execution_count": 60,
   "id": "a70613f2-11fb-4a10-a2b1-7cb20a5b9e96",
   "metadata": {},
   "outputs": [
    {
     "name": "stdin",
     "output_type": "stream",
     "text": [
      "Enter the mark of subject1: 98\n",
      "Enter the mark of subject2: 87\n",
      "Enter the mark of subject3: 95\n",
      "Enter the mark of subject4: 95\n",
      "Enter the mark of subject5: 93\n"
     ]
    },
    {
     "name": "stdout",
     "output_type": "stream",
     "text": [
      "total: 468 \n",
      " Percentage: 93.6\n",
      "('Total', 468, 'percentage', 93.6)\n"
     ]
    }
   ],
   "source": [
    "x=FindPercent.percentage()\n",
    "print(x)"
   ]
  },
  {
   "cell_type": "code",
   "execution_count": 72,
   "id": "669364d3-aa5b-4c46-9619-e7bf5b8bef05",
   "metadata": {},
   "outputs": [],
   "source": [
    "class triangle():\n",
    "    def areatriangle():\n",
    "        h=int(input(\"Height:\"))\n",
    "        b=int(input(\"Breadth:\"))\n",
    "        area=((h*b)/2)\n",
    "        print(\"Area of Triangle formula is: (Height*breadth)/2\")\n",
    "        return \"the area of triangle:\",area\n",
    "    \n",
    "    def peritriangle():\n",
    "        h1=int(input(\"Height1:\"))\n",
    "        h2=int(input(\"Height2:\"))\n",
    "        b1=int(input(\"Breadth:\"))\n",
    "        peri=(h1+h2+b1)\n",
    "        print(\"The perimeter of triangle formula is :Height1+Height2+Breadth\")\n",
    "        return \"The perimeter of triangle:\",peri"
   ]
  },
  {
   "cell_type": "code",
   "execution_count": 74,
   "id": "52392607-f532-4b3f-9ee9-d79e7f8a769d",
   "metadata": {},
   "outputs": [
    {
     "name": "stdin",
     "output_type": "stream",
     "text": [
      "Height: 32\n",
      "Breadth: 34\n"
     ]
    },
    {
     "name": "stdout",
     "output_type": "stream",
     "text": [
      "Area of Triangle formula is: (Height*breadth)/2\n",
      "('the area of triangle:', 544.0)\n"
     ]
    },
    {
     "name": "stdin",
     "output_type": "stream",
     "text": [
      "Height1: 4\n",
      "Height2: 2\n",
      "Breadth: 4\n"
     ]
    },
    {
     "name": "stdout",
     "output_type": "stream",
     "text": [
      "The perimeter of triangle formula is :Height1+Height2+Breadth\n"
     ]
    },
    {
     "data": {
      "text/plain": [
       "('The perimeter of triangle:', 10)"
      ]
     },
     "execution_count": 74,
     "metadata": {},
     "output_type": "execute_result"
    }
   ],
   "source": [
    "g=triangle.areatriangle()\n",
    "print(g)\n",
    "triangle.peritriangle()"
   ]
  },
  {
   "cell_type": "code",
   "execution_count": null,
   "id": "773a59c2-0cbe-47ad-9f4f-4b23e986d7ac",
   "metadata": {},
   "outputs": [],
   "source": []
  }
 ],
 "metadata": {
  "kernelspec": {
   "display_name": "Python [conda env:base] *",
   "language": "python",
   "name": "conda-base-py"
  },
  "language_info": {
   "codemirror_mode": {
    "name": "ipython",
    "version": 3
   },
   "file_extension": ".py",
   "mimetype": "text/x-python",
   "name": "python",
   "nbconvert_exporter": "python",
   "pygments_lexer": "ipython3",
   "version": "3.12.7"
  }
 },
 "nbformat": 4,
 "nbformat_minor": 5
}
