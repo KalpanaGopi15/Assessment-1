{
 "cells": [
  {
   "cell_type": "code",
   "execution_count": 3,
   "id": "6fc73e1c-1207-48b8-8576-4595d8400a9c",
   "metadata": {},
   "outputs": [
    {
     "name": "stdin",
     "output_type": "stream",
     "text": [
      "Enter the correct value: 45\n"
     ]
    },
    {
     "name": "stdout",
     "output_type": "stream",
     "text": [
      "You entered wrong value: 45\n"
     ]
    }
   ],
   "source": [
    "x=int(input(\"Enter the correct value:\"))\n",
    "if(x==10):\n",
    "    print(\" You entered correct value:\",x)\n",
    "else:\n",
    "    print(\"You entered wrong value:\",x)\n",
    "    \n",
    "    "
   ]
  },
  {
   "cell_type": "code",
   "execution_count": 11,
   "id": "792b2832-2a08-4e43-a115-3db657d70f6c",
   "metadata": {},
   "outputs": [
    {
     "name": "stdin",
     "output_type": "stream",
     "text": [
      "Enter your password Hope@123\n"
     ]
    },
    {
     "name": "stdout",
     "output_type": "stream",
     "text": [
      "Your password is crt\n"
     ]
    }
   ],
   "source": [
    "y=input(\"Enter your password\")\n",
    "re='Hope@123'\n",
    "if(y==re):\n",
    "    print(\"Your password is crt\")\n",
    "else:\n",
    "    print(\"it is worng\")\n",
    "    "
   ]
  },
  {
   "cell_type": "code",
   "execution_count": 19,
   "id": "83495bab-e7f1-4e7f-bb75-17ac6fdeaebb",
   "metadata": {},
   "outputs": [],
   "source": [
    "def agecate():\n",
    "    if(age<=18):\n",
    "        print(\"you  are a child\",age)\n",
    "    elif(age<35):\n",
    "        print(\"you are a adult\",age)\n",
    "    elif(age<59):\n",
    "        print(\"you are citizen\", age)\n",
    "    else:\n",
    "        print(\"You are senior citizen\",age)\n",
    "        \n",
    "\n",
    "\n"
   ]
  },
  {
   "cell_type": "code",
   "execution_count": 23,
   "id": "09bb0d0d-ef14-4090-9564-1106b6726b99",
   "metadata": {},
   "outputs": [
    {
     "name": "stdin",
     "output_type": "stream",
     "text": [
      "Enter your age: 90\n"
     ]
    },
    {
     "name": "stdout",
     "output_type": "stream",
     "text": [
      "You are senior citizen 90\n"
     ]
    }
   ],
   "source": [
    "age=int(input(\"Enter your age:\"))\n",
    "fish=agecate()\n",
    "\n"
   ]
  },
  {
   "cell_type": "code",
   "execution_count": 25,
   "id": "96913a70-3372-4b71-9a4c-1ca39e0b674b",
   "metadata": {},
   "outputs": [
    {
     "name": "stdin",
     "output_type": "stream",
     "text": [
      "Enter the number -2\n"
     ]
    },
    {
     "name": "stdout",
     "output_type": "stream",
     "text": [
      "the number is negative: -2\n"
     ]
    }
   ],
   "source": [
    "# number is positive or negative\n",
    "\n",
    "x=int(input(\"Enter the number\"))\n",
    "if(x>0):\n",
    "    print(\"The number is positive:\",x)\n",
    "else:\n",
    "    print(\"the number is negative:\",x)\n",
    "    "
   ]
  },
  {
   "cell_type": "code",
   "execution_count": 29,
   "id": "0ef44245-c3a0-4612-a48b-5a6af535cebe",
   "metadata": {},
   "outputs": [
    {
     "name": "stdin",
     "output_type": "stream",
     "text": [
      "Enter the number 67\n"
     ]
    },
    {
     "name": "stdout",
     "output_type": "stream",
     "text": [
      "The number 67 not divisible by 5\n"
     ]
    }
   ],
   "source": [
    "#number divisible by 5 or not\n",
    "\n",
    "num=int(input(\"Enter the number\"))\n",
    "if(num%5==0):\n",
    "    print(\"The number \",num, \"divisible by 5\")\n",
    "else:\n",
    "    print(\"The number\", num, \"not divisible by 5\")\n",
    "    "
   ]
  },
  {
   "cell_type": "code",
   "execution_count": null,
   "id": "4e9f091d-bd5c-468b-a2d3-0cf52f68a2d6",
   "metadata": {},
   "outputs": [],
   "source": []
  }
 ],
 "metadata": {
  "kernelspec": {
   "display_name": "Python [conda env:base] *",
   "language": "python",
   "name": "conda-base-py"
  },
  "language_info": {
   "codemirror_mode": {
    "name": "ipython",
    "version": 3
   },
   "file_extension": ".py",
   "mimetype": "text/x-python",
   "name": "python",
   "nbconvert_exporter": "python",
   "pygments_lexer": "ipython3",
   "version": "3.12.7"
  }
 },
 "nbformat": 4,
 "nbformat_minor": 5
}
