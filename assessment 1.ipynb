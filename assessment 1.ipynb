{
 "cells": [
  {
   "cell_type": "code",
   "execution_count": 9,
   "id": "7b86fa4b-f9c8-419a-83dc-2178fb4221a4",
   "metadata": {},
   "outputs": [
    {
     "name": "stdout",
     "output_type": "stream",
     "text": [
      "Hope AI\n"
     ]
    }
   ],
   "source": [
    "#PRINT THE STATEMENT\n",
    "\n",
    "print(\"Hope AI\")\n"
   ]
  },
  {
   "cell_type": "code",
   "execution_count": 5,
   "id": "afeda1c9-0fea-4853-8ef5-50839342023d",
   "metadata": {},
   "outputs": [
    {
     "name": "stdin",
     "output_type": "stream",
     "text": [
      "Enter your institute name:  HOPE AI\n"
     ]
    },
    {
     "name": "stdout",
     "output_type": "stream",
     "text": [
      "HOPE AI\n"
     ]
    }
   ],
   "source": [
    "#BUY INPUTS\n",
    "\n",
    "str=input(\"Enter your institute name: \")\n",
    "print(str)\n"
   ]
  },
  {
   "cell_type": "code",
   "execution_count": 19,
   "id": "74a28185-c46e-4adb-8669-72968f1de620",
   "metadata": {},
   "outputs": [
    {
     "name": "stdin",
     "output_type": "stream",
     "text": [
      "Enter your name Raj\n",
      "Enter your Age 15\n",
      "Enter your school name guru school\n",
      "Enter your degree quaification B.E CSE\n"
     ]
    },
    {
     "name": "stdout",
     "output_type": "stream",
     "text": [
      "NAME:  Raj \n",
      " AGE 15 \n",
      " School Name guru school \n",
      " Qualification B.E CSE\n"
     ]
    }
   ],
   "source": [
    "name=input(\"Enter your name\")\n",
    "age=int(input(\"Enter your Age\"))\n",
    "school_name=input(\"Enter your school name\")\n",
    "degree=input(\"Enter your degree quaification\")\n",
    "print(\"NAME: \",name,\"\\n\",\"AGE\",age,\"\\n\",\"School Name\",school_name,\"\\n\",\"Qualification\",degree,)\n"
   ]
  },
  {
   "cell_type": "code",
   "execution_count": 23,
   "id": "7978df38-029b-43e7-931d-83ecb82ac061",
   "metadata": {},
   "outputs": [
    {
     "name": "stdout",
     "output_type": "stream",
     "text": [
      "Add a+b is: 77\n",
      "subtract a-b is: 9\n"
     ]
    }
   ],
   "source": [
    "# add and sub\n",
    "a=43\n",
    "b=34\n",
    "c=a+b\n",
    "d=a-b\n",
    "print(\"Add a+b is:\",c)\n",
    "print(\"subtract a-b is:\",d)\n"
   ]
  },
  {
   "cell_type": "code",
   "execution_count": 25,
   "id": "71f5a916-1ef8-431b-b7a1-c1a50eec4b51",
   "metadata": {},
   "outputs": [
    {
     "name": "stdout",
     "output_type": "stream",
     "text": [
      "Multiply of 2 numbers is: 6111\n"
     ]
    }
   ],
   "source": [
    "# MULTIPLICATION\n",
    "\n",
    "a=63\n",
    "b=97\n",
    "c=a*b\n",
    "print(\"Multiply of 2 numbers is:\",c)\n"
   ]
  },
  {
   "cell_type": "code",
   "execution_count": 33,
   "id": "bdef8391-2495-4346-aead-57767850e44d",
   "metadata": {},
   "outputs": [
    {
     "name": "stdout",
     "output_type": "stream",
     "text": [
      "The result of division is : 2.4516129032258065\n",
      "The resul of floor division is: 2\n",
      "The result of modulo is: 14\n"
     ]
    }
   ],
   "source": [
    "# division,floor division,modulo\n",
    "\n",
    "a=76\n",
    "b=31\n",
    "c=a/b\n",
    "d=a//b\n",
    "e=a%b\n",
    "print(\"The result of division is :\" ,c)\n",
    "print(\"The resul of floor division is:\",d)\n",
    "print(\"The result of modulo is:\",e)\n",
    "\n",
    "\n"
   ]
  },
  {
   "cell_type": "code",
   "execution_count": 37,
   "id": "255f83e3-0b55-49da-8fd8-6f06137ce624",
   "metadata": {},
   "outputs": [
    {
     "name": "stdout",
     "output_type": "stream",
     "text": [
      "256\n"
     ]
    }
   ],
   "source": [
    "#power\n",
    "x=pow(4,4)\n",
    "print(x)"
   ]
  },
  {
   "cell_type": "code",
   "execution_count": 41,
   "id": "b8efefd4-3811-441d-8768-efa997908a00",
   "metadata": {},
   "outputs": [
    {
     "name": "stdin",
     "output_type": "stream",
     "text": [
      "Enter the base number 2\n",
      "Enter the expontional number 3\n"
     ]
    },
    {
     "name": "stdout",
     "output_type": "stream",
     "text": [
      "The Power of  2 is 8\n"
     ]
    }
   ],
   "source": [
    "\n",
    "a=int(input(\"Enter the base number\"))\n",
    "b=int(input(\"Enter the expontional number\"))\n",
    "x=pow(a,b)\n",
    "print(\"The Power of \",a, \"is\",x)\n"
   ]
  },
  {
   "cell_type": "code",
   "execution_count": null,
   "id": "cdcf12a9-0338-476f-a4ce-6bf6695a2000",
   "metadata": {},
   "outputs": [],
   "source": []
  }
 ],
 "metadata": {
  "kernelspec": {
   "display_name": "Python [conda env:base] *",
   "language": "python",
   "name": "conda-base-py"
  },
  "language_info": {
   "codemirror_mode": {
    "name": "ipython",
    "version": 3
   },
   "file_extension": ".py",
   "mimetype": "text/x-python",
   "name": "python",
   "nbconvert_exporter": "python",
   "pygments_lexer": "ipython3",
   "version": "3.12.7"
  }
 },
 "nbformat": 4,
 "nbformat_minor": 5
}
