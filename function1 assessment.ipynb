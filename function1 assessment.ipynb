{
 "cells": [
  {
   "cell_type": "code",
   "execution_count": 13,
   "id": "c86177bd-9b26-4f7b-9aff-9966dcfbd9c4",
   "metadata": {},
   "outputs": [],
   "source": [
    "# Get subfields\n",
    "def Aisubfields():\n",
    "    subfields=[]\n",
    "    for i in range(6):\n",
    "        values=input(\"enter the subfields in AI are:\")\n",
    "        subfields.append(values)\n",
    "   # print(\"The subfields are:\",subfields,\"\\n\")\n",
    "    aisub=subfields\n",
    "    return aisub"
   ]
  },
  {
   "cell_type": "code",
   "execution_count": 31,
   "id": "7832e376-c891-43d2-aaf2-8e0e8e715644",
   "metadata": {},
   "outputs": [
    {
     "name": "stdin",
     "output_type": "stream",
     "text": [
      "enter the subfields in AI are: machine learning\n",
      "enter the subfields in AI are: neural networks\n",
      "enter the subfields in AI are: nlp\n",
      "enter the subfields in AI are: speech recognation\n",
      "enter the subfields in AI are: vision\n",
      "enter the subfields in AI are: robotics\n"
     ]
    },
    {
     "data": {
      "text/plain": [
       "['machine learning',\n",
       " 'neural networks',\n",
       " 'nlp',\n",
       " 'speech recognation',\n",
       " 'vision',\n",
       " 'robotics']"
      ]
     },
     "execution_count": 31,
     "metadata": {},
     "output_type": "execute_result"
    }
   ],
   "source": [
    "Aisubfields()\n"
   ]
  },
  {
   "cell_type": "code",
   "execution_count": 43,
   "id": "12e14ef1-6cfd-495a-9bd6-1a14de3dc293",
   "metadata": {},
   "outputs": [
    {
     "name": "stdin",
     "output_type": "stream",
     "text": [
      "enter the subfields in AI are: ml\n",
      "enter the subfields in AI are: nn\n",
      "enter the subfields in AI are: nlp\n",
      "enter the subfields in AI are: pl\n",
      "enter the subfields in AI are: hi\n",
      "enter the subfields in AI are: uy\n"
     ]
    },
    {
     "name": "stdout",
     "output_type": "stream",
     "text": [
      "['ml', 'nn', 'nlp', 'pl', 'hi', 'uy']\n"
     ]
    }
   ],
   "source": [
    "aisub1=Aisubfields()\n",
    "print(aisub1)"
   ]
  },
  {
   "cell_type": "code",
   "execution_count": 55,
   "id": "05572eb0-b4d5-4431-97ff-7fe7b149e15a",
   "metadata": {},
   "outputs": [],
   "source": [
    "# odd or even\n",
    "\n",
    "def oddeven():\n",
    "    num=int(input(\"enter the number:\"))\n",
    "    if(num%2==0):\n",
    "        print(\"The given number\",num, \"is even\")\n",
    "        revar=\"the no is even\"\n",
    "    else:\n",
    "        print(\"The given number\",num,\"is odd\")\n",
    "        revar=\"the no is odd\"\n",
    "    return revar\n",
    "    "
   ]
  },
  {
   "cell_type": "code",
   "execution_count": 117,
   "id": "ba7fd507-05a1-4c4a-8074-1718c991874c",
   "metadata": {},
   "outputs": [
    {
     "name": "stdin",
     "output_type": "stream",
     "text": [
      "enter the number: 75\n"
     ]
    },
    {
     "name": "stdout",
     "output_type": "stream",
     "text": [
      "The given number 75 is odd\n"
     ]
    }
   ],
   "source": [
    "x=oddeven()"
   ]
  },
  {
   "cell_type": "code",
   "execution_count": 119,
   "id": "66318a56-3924-4601-b23e-5d97a47c1c42",
   "metadata": {},
   "outputs": [
    {
     "name": "stdout",
     "output_type": "stream",
     "text": [
      "the no is odd\n"
     ]
    }
   ],
   "source": [
    "print(x)"
   ]
  },
  {
   "cell_type": "code",
   "execution_count": 103,
   "id": "be3d4458-e013-4c02-bf41-8716df8b1f41",
   "metadata": {},
   "outputs": [],
   "source": [
    "# eligibility for marriage\n",
    "\n",
    "\n",
    "def eligibility():\n",
    "    if((gender=='Male')&(age>=21)):\n",
    "        print(\"you r eligible\")\n",
    "        msg=\"Eligible for adult\",age\n",
    "    elif((gender=='Male')&(age<21)):\n",
    "        print(\"you r not eligible\")\n",
    "        msg=(\"NOT ELIGIBLE FOR\",age)\n",
    "    elif((gender=='Female')&(age>=18)):\n",
    "        print(\"you r eligible\")\n",
    "        msg=\"ELIGIBLE\",age\n",
    "    else:\n",
    "        print(\"u r not eligible\")\n",
    "        msg=\"not eligible\",age\n",
    "    return msg\n",
    "    \n",
    "    \n",
    "        "
   ]
  },
  {
   "cell_type": "code",
   "execution_count": 113,
   "id": "589eb00e-f9fe-476f-8738-d0132d6047d7",
   "metadata": {},
   "outputs": [
    {
     "name": "stdin",
     "output_type": "stream",
     "text": [
      "enter ur gender: Male\n",
      "enter ur age 19\n"
     ]
    },
    {
     "name": "stdout",
     "output_type": "stream",
     "text": [
      "you r not eligible\n"
     ]
    }
   ],
   "source": [
    "gender=input(\"enter ur gender:\")\n",
    "age=int(input(\"enter ur age\"))\n",
    "eli=eligibility()"
   ]
  },
  {
   "cell_type": "code",
   "execution_count": 115,
   "id": "d370b2b8-68ad-48b3-a7ff-57dee3df89d3",
   "metadata": {},
   "outputs": [
    {
     "name": "stdout",
     "output_type": "stream",
     "text": [
      "('NOT ELIGIBLE FOR', 19)\n"
     ]
    }
   ],
   "source": [
    "print(eli)\n"
   ]
  },
  {
   "cell_type": "code",
   "execution_count": 153,
   "id": "b842ffa4-02b8-42ab-97a6-6d5286172e75",
   "metadata": {},
   "outputs": [],
   "source": [
    "# calculate percentage\n",
    "\n",
    "def percentage():\n",
    "    sub1=int(input(\"Enter the mark of subject1:\"))\n",
    "    sub2=int(input(\"Enter the mark of subject2:\"))\n",
    "    sub3=int(input(\"Enter the mark of subject3:\"))\n",
    "    sub4=int(input(\"Enter the mark of subject4:\"))\n",
    "    sub5=int(input(\"Enter the mark of subject5:\"))\n",
    "    tot=(sub1+sub2+sub3+sub4+sub5)\n",
    "    per=tot/5\n",
    "    temp=\"Ur Total marks are\",tot,\"and percentage is\",per\n",
    "    return temp\n",
    "    \n",
    "\n",
    "    "
   ]
  },
  {
   "cell_type": "markdown",
   "id": "db6449f5-4786-4149-a012-6bf51e31a494",
   "metadata": {},
   "source": [
    "\n",
    "\n"
   ]
  },
  {
   "cell_type": "code",
   "execution_count": 160,
   "id": "53bcab3b-fc8c-422d-ba14-35440d311de1",
   "metadata": {},
   "outputs": [
    {
     "name": "stdin",
     "output_type": "stream",
     "text": [
      "Enter the mark of subject1: 98\n",
      "Enter the mark of subject2: 87\n",
      "Enter the mark of subject3: 95\n",
      "Enter the mark of subject4: 95\n",
      "Enter the mark of subject5: 93\n"
     ]
    },
    {
     "name": "stdout",
     "output_type": "stream",
     "text": [
      "('Ur Total marks are', 468, 'and percentage is', 93.6)\n"
     ]
    }
   ],
   "source": [
    "  calpert=percentage()\n",
    "print(calpert)"
   ]
  },
  {
   "cell_type": "code",
   "execution_count": 184,
   "id": "bb9bd3d7-30c7-4e14-987c-8cf207b61af6",
   "metadata": {},
   "outputs": [],
   "source": [
    "#calculate triagle\n",
    "def areatriangle(h,b):\n",
    "    area=((h*b)/2)\n",
    "    print(\"The area of triangle is\")\n",
    "    return area\n",
    "def peritriangle(h1,h2,b):\n",
    "    peri=(h1+h2+b)\n",
    "    print(\"The perimeter of triangle is :\")\n",
    "    return peri\n",
    "\n",
    "\n",
    "    "
   ]
  },
  {
   "cell_type": "code",
   "execution_count": 190,
   "id": "d163e312-acb1-408c-902e-a5fae878f107",
   "metadata": {},
   "outputs": [
    {
     "name": "stdout",
     "output_type": "stream",
     "text": [
      "The area of triangle is\n",
      "544.0\n",
      "The perimeter of triangle is :\n",
      "10\n"
     ]
    }
   ],
   "source": [
    "x=areatriangle(32,34)\n",
    "print(x)\n",
    "y=peritriangle(2,4,4)\n",
    "print(y)"
   ]
  },
  {
   "cell_type": "code",
   "execution_count": null,
   "id": "f154ff3d-fac7-4233-b383-cb205d717edf",
   "metadata": {},
   "outputs": [],
   "source": []
  }
 ],
 "metadata": {
  "kernelspec": {
   "display_name": "Python [conda env:base] *",
   "language": "python",
   "name": "conda-base-py"
  },
  "language_info": {
   "codemirror_mode": {
    "name": "ipython",
    "version": 3
   },
   "file_extension": ".py",
   "mimetype": "text/x-python",
   "name": "python",
   "nbconvert_exporter": "python",
   "pygments_lexer": "ipython3",
   "version": "3.12.7"
  }
 },
 "nbformat": 4,
 "nbformat_minor": 5
}
