{
 "cells": [
  {
   "cell_type": "code",
   "execution_count": 1,
   "id": "a3116773-1f02-4cb0-9436-a02919a559be",
   "metadata": {},
   "outputs": [],
   "source": [
    "from Multiplefun1 import multifun"
   ]
  },
  {
   "cell_type": "code",
   "execution_count": 9,
   "id": "104ab1c3-e2bf-4c9e-9142-4eb2c87809e1",
   "metadata": {},
   "outputs": [
    {
     "name": "stdin",
     "output_type": "stream",
     "text": [
      "enter the number: 52452\n"
     ]
    },
    {
     "name": "stdout",
     "output_type": "stream",
     "text": [
      "The given number 52452 is even\n"
     ]
    },
    {
     "data": {
      "text/plain": [
       "'the no is even'"
      ]
     },
     "execution_count": 9,
     "metadata": {},
     "output_type": "execute_result"
    }
   ],
   "source": [
    "multifun.oddeven()\n"
   ]
  },
  {
   "cell_type": "code",
   "execution_count": 11,
   "id": "ad49f70c-d511-49db-8d01-05c3b75832f8",
   "metadata": {},
   "outputs": [
    {
     "name": "stdin",
     "output_type": "stream",
     "text": [
      "Ener the gender Female\n",
      "Enter the age: 12\n"
     ]
    },
    {
     "name": "stdout",
     "output_type": "stream",
     "text": [
      "u r not eligible\n"
     ]
    },
    {
     "data": {
      "text/plain": [
       "('not eligible', 12)"
      ]
     },
     "execution_count": 11,
     "metadata": {},
     "output_type": "execute_result"
    }
   ],
   "source": [
    "multifun.eligibility()\n"
   ]
  },
  {
   "cell_type": "code",
   "execution_count": 13,
   "id": "09aa787d-7ce7-43df-8bc0-7d3917fd4e2e",
   "metadata": {},
   "outputs": [
    {
     "name": "stdin",
     "output_type": "stream",
     "text": [
      "Enter the mark of subject1: 98\n",
      "Enter the mark of subject2: 87\n",
      "Enter the mark of subject3: 95\n",
      "Enter the mark of subject4: 95\n",
      "Enter the mark of subject5: 93\n"
     ]
    },
    {
     "data": {
      "text/plain": [
       "('Ur Total marks are', 468, 'and percentage is', 93.6)"
      ]
     },
     "execution_count": 13,
     "metadata": {},
     "output_type": "execute_result"
    }
   ],
   "source": [
    "multifun.percentage()\n"
   ]
  },
  {
   "cell_type": "code",
   "execution_count": 7,
   "id": "bafc2dea-0dc3-4b01-bfc1-7a8d92f44fbc",
   "metadata": {},
   "outputs": [
    {
     "name": "stdin",
     "output_type": "stream",
     "text": [
      "Height: 32\n",
      "Breadth: 34\n"
     ]
    },
    {
     "name": "stdout",
     "output_type": "stream",
     "text": [
      "Area of Triangle formula is: (Height*breadth)/2\n",
      "('the area of triangle is', 544.0)\n"
     ]
    },
    {
     "name": "stdin",
     "output_type": "stream",
     "text": [
      "Height1: 2\n",
      "Height2: 4\n",
      "Breadth: 4\n"
     ]
    },
    {
     "name": "stdout",
     "output_type": "stream",
     "text": [
      "The perimeter of triangle formula is :Height1+Height2+Breadth\n"
     ]
    },
    {
     "data": {
      "text/plain": [
       "('The perimeter of triangle is', 10)"
      ]
     },
     "execution_count": 7,
     "metadata": {},
     "output_type": "execute_result"
    }
   ],
   "source": [
    "x=multifun.areatriangle()\n",
    "print(x)\n",
    "multifun.peritriangle()\n",
    "        "
   ]
  },
  {
   "cell_type": "code",
   "execution_count": 15,
   "id": "952ef36b-5be1-4959-9dcd-7e876345064f",
   "metadata": {},
   "outputs": [
    {
     "name": "stdout",
     "output_type": "stream",
     "text": [
      "Machine Learning\n",
      "Neural Networks\n",
      "vision\n",
      "Robotics\n",
      "Speech Processing\n",
      "Natural Language Processing\n"
     ]
    }
   ],
   "source": [
    "multifun.subfields()"
   ]
  },
  {
   "cell_type": "code",
   "execution_count": null,
   "id": "e4aa5e61-f38f-420e-b17f-001b8bb4d075",
   "metadata": {},
   "outputs": [],
   "source": []
  },
  {
   "cell_type": "code",
   "execution_count": null,
   "id": "497780cd-93fb-4f8f-8567-033fb64d510a",
   "metadata": {},
   "outputs": [],
   "source": []
  }
 ],
 "metadata": {
  "kernelspec": {
   "display_name": "Python [conda env:base] *",
   "language": "python",
   "name": "conda-base-py"
  },
  "language_info": {
   "codemirror_mode": {
    "name": "ipython",
    "version": 3
   },
   "file_extension": ".py",
   "mimetype": "text/x-python",
   "name": "python",
   "nbconvert_exporter": "python",
   "pygments_lexer": "ipython3",
   "version": "3.12.7"
  }
 },
 "nbformat": 4,
 "nbformat_minor": 5
}
